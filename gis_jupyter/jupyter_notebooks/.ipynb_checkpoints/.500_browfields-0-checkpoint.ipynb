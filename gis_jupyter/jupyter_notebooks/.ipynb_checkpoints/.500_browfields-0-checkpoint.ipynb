{
 "cells": [
  {
   "cell_type": "code",
   "execution_count": 1,
   "metadata": {},
   "outputs": [],
   "source": [
    "from ipyleaflet import *\n",
    "from ipywidgets import HTML"
   ]
  },
  {
   "cell_type": "code",
   "execution_count": 2,
   "metadata": {},
   "outputs": [],
   "source": [
    "m = Map(center=(53.40, 59.02), zoom=3)"
   ]
  },
  {
   "cell_type": "code",
   "execution_count": 3,
   "metadata": {},
   "outputs": [],
   "source": [
    "center=(53.40, 59.02)"
   ]
  },
  {
   "cell_type": "code",
   "execution_count": 4,
   "metadata": {},
   "outputs": [],
   "source": [
    "marker = Marker(location=center, title=\"the best place of the world\",draggable=False)\n",
    "m.add_layer(marker);"
   ]
  },
  {
   "cell_type": "code",
   "execution_count": 5,
   "metadata": {},
   "outputs": [],
   "source": [
    "message1 = HTML()\n",
    "message2 = HTML()\n",
    "message2.value = \"Hello <b>Magnitogorsk</b>\""
   ]
  },
  {
   "cell_type": "code",
   "execution_count": 6,
   "metadata": {},
   "outputs": [],
   "source": [
    "marker.popup = message2"
   ]
  },
  {
   "cell_type": "code",
   "execution_count": 7,
   "metadata": {},
   "outputs": [],
   "source": [
    "from SPARQLWrapper import SPARQLWrapper, JSON"
   ]
  },
  {
   "cell_type": "code",
   "execution_count": 8,
   "metadata": {},
   "outputs": [],
   "source": [
    "from SPARQLWrapper import SPARQLWrapper, JSON\n",
    "sparql = SPARQLWrapper(\"https://sophox.org/sparql\")\n",
    "sparql.setQuery(\"\"\"SELECT ?name ?longitude ?latitude\n",
    "WHERE {\n",
    "  ?osmid osmm:loc ?loc .\n",
    "  ?osmid osmt:name ?name  .\n",
    "  ?osmid osmt:landuse \"brownfield\" .\n",
    "  BIND( geof:longitude(?loc) as ?longitude )\n",
    "  BIND( geof:latitude(?loc) as ?latitude )  \n",
    "}\n",
    "limit 500\"\"\")\n",
    "sparql.setReturnFormat(JSON)\n",
    "results = sparql.query().convert()\n",
    "i=0\n",
    "for result in results[\"results\"][\"bindings\"]:\n",
    "    brownfield_name = result[\"name\"][\"value\"] \n",
    "    brownfield_loc = (float(result[\"latitude\"][\"value\"]),float(result[\"longitude\"][\"value\"]))\n",
    "    marker = Marker(location=brownfield_loc, title=brownfield_name,draggable=False)\n",
    "    message = HTML()\n",
    "    message.value = brownfield_name\n",
    "    marker.popup = message\n",
    "    m.add_layer(marker)\n",
    "    i=i+1\n"
   ]
  },
  {
   "cell_type": "code",
   "execution_count": 9,
   "metadata": {},
   "outputs": [
    {
     "data": {
      "application/vnd.jupyter.widget-view+json": {
       "model_id": "1658451755594c0ca84885a4cf4f405c",
       "version_major": 2,
       "version_minor": 0
      },
      "text/plain": [
       "Map(basemap={'url': 'https://{s}.tile.openstreetmap.org/{z}/{x}/{y}.png', 'max_zoom': 19, 'attribution': 'Map …"
      ]
     },
     "metadata": {},
     "output_type": "display_data"
    }
   ],
   "source": [
    "m"
   ]
  },
  {
   "cell_type": "code",
   "execution_count": null,
   "metadata": {},
   "outputs": [],
   "source": []
  }
 ],
 "metadata": {
  "kernelspec": {
   "display_name": "Python [conda env:geojupyter]",
   "language": "python",
   "name": "conda-env-geojupyter-py"
  },
  "language_info": {
   "codemirror_mode": {
    "name": "ipython",
    "version": 3
   },
   "file_extension": ".py",
   "mimetype": "text/x-python",
   "name": "python",
   "nbconvert_exporter": "python",
   "pygments_lexer": "ipython3",
   "version": "3.7.5"
  }
 },
 "nbformat": 4,
 "nbformat_minor": 2
}
